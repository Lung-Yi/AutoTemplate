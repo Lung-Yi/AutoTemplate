{
 "cells": [
  {
   "cell_type": "code",
   "execution_count": 8,
   "metadata": {},
   "outputs": [],
   "source": [
    "import pandas as pd\n",
    "from prettytable import PrettyTable\n",
    "\n",
    "\n",
    "def get_num_processed_data(data_path):\n",
    "    with open(data_path, \"r\") as f:\n",
    "        data = f.readlines()\n",
    "    return len(data)\n",
    "\n",
    "def get_num_templates(data_path):\n",
    "    return len(pd.read_csv(data_path))\n",
    "\n",
    "def get_residual_proportion(data_path):\n",
    "    num_all_data = get_num_processed_data(data_path)\n",
    "    with open(data_path + \".processed\", \"r\") as f:\n",
    "        num_processed = len(f.readlines())\n",
    "    return \"{:.2f}\".format(num_processed / num_all_data * 100)\n",
    "\n",
    "\n",
    "all_rxn_class = [\"AdamsDecarboxylation\",\n",
    "                \"Baylis-HillmanReaction\",\n",
    "                \"Buchwald-HartwigCross-Coupling\",\n",
    "                \"Chan_LamCoupling\",\n",
    "                \"DielsAlder\",\n",
    "                \"FischerIndoleSynthesis\",\n",
    "                \"Friedel-CraftsAcylation\",\n",
    "                \"Friedel-CraftsAlkylation\",\n",
    "                \"GrignardReaction\",\n",
    "                \"HiyamaCoupling\",\n",
    "                # \"HuisgenCycloaddition\",\n",
    "                \"Hydrogenation\",\n",
    "                \"Kabachnik-FieldsReaction\",\n",
    "                \"KumadaCoupling\",\n",
    "                \"MannichReaction\",\n",
    "                \"NegishiCoupling\",\n",
    "                \"PausonKhandReaction\",\n",
    "                \"ReductiveAmination\",\n",
    "                \"SuzukiCoupling\",\n",
    "                \"WittigReaction\",\n",
    "                ]"
   ]
  },
  {
   "cell_type": "markdown",
   "metadata": {},
   "source": [
    "## Analysis of the reaction templates including the distinguishment of aromatic and aliphatic atoms"
   ]
  },
  {
   "cell_type": "code",
   "execution_count": 10,
   "metadata": {},
   "outputs": [
    {
     "name": "stdout",
     "output_type": "stream",
     "text": [
      "+--------------------------------+------------------------+-------------------+-------------------------+--------------------+---------------------------+\n",
      "|         Reaction name          | No. of first templates | No. of first data | No. of second templates | No. of second data | No. of RDChrial templates |\n",
      "+--------------------------------+------------------------+-------------------+-------------------------+--------------------+---------------------------+\n",
      "|      AdamsDecarboxylation      |           54           |        1641       |            55           |        1595        |            1491           |\n",
      "|     Baylis-HillmanReaction     |           84           |        6101       |            87           |        6080        |            2697           |\n",
      "| Buchwald-HartwigCross-Coupling |           96           |       16627       |           104           |       16545        |            4081           |\n",
      "|        Chan_LamCoupling        |           43           |        6342       |            52           |        6292        |            1236           |\n",
      "|           DielsAlder           |          258           |       14032       |           266           |       14013        |           14480           |\n",
      "|     FischerIndoleSynthesis     |           28           |        5875       |            28           |        5867        |            2621           |\n",
      "|    Friedel-CraftsAcylation     |          118           |        8368       |           121           |        8348        |            2925           |\n",
      "|    Friedel-CraftsAlkylation    |          164           |       14017       |           170           |       13984        |            8010           |\n",
      "|        GrignardReaction        |          154           |        9903       |           186           |        9621        |            7245           |\n",
      "|         HiyamaCoupling         |          106           |        3341       |           121           |        3192        |            1552           |\n",
      "|         Hydrogenation          |          306           |       28623       |           313           |       28574        |           17152           |\n",
      "|    Kabachnik-FieldsReaction    |           14           |        5098       |            15           |        5098        |            1806           |\n",
      "|         KumadaCoupling         |           82           |       14589       |           116           |       14397        |            7299           |\n",
      "|        MannichReaction         |          271           |       25540       |           292           |       25447        |           13076           |\n",
      "|        NegishiCoupling         |          146           |        9264       |           226           |        9071        |            5300           |\n",
      "|      PausonKhandReaction       |           19           |        1956       |            19           |        1956        |            2133           |\n",
      "|       ReductiveAmination       |           16           |       48931       |            16           |       48931        |           10277           |\n",
      "|         SuzukiCoupling         |          216           |       180819      |           282           |       180536       |           24959           |\n",
      "|         WittigReaction         |           94           |       13852       |            92           |       13833        |            7113           |\n",
      "+--------------------------------+------------------------+-------------------+-------------------------+--------------------+---------------------------+\n"
     ]
    }
   ],
   "source": [
    "table = PrettyTable()\n",
    "table.field_names = [\"Reaction name\", \"No. of first templates\", \"No. of first data\", \"No. of second templates\", \"No. of second data\", \"No. of RDChrial templates\"]\n",
    "for rxn in all_rxn_class:\n",
    "    num_frist_data = get_num_processed_data(f\"../data/{rxn}/MappingResult_{rxn}.txt.processed\")\n",
    "    num_first_template = get_num_templates(f\"../data/{rxn}/all_templates_used.csv\")\n",
    "    num_second_data = get_num_processed_data(f\"../data_aro_ali_diff/{rxn}/MappingResult_{rxn}.txt.processed\")\n",
    "    num_second_template = get_num_templates(f\"../data_aro_ali_diff/{rxn}/all_templates_used.csv\")\n",
    "    num_rdchiral_template = get_num_templates(f\"../data/{rxn}/rdchiral_templates.csv\")\n",
    "    table.add_row([rxn, num_first_template, num_frist_data, num_second_template, num_second_data, num_rdchiral_template])\n",
    "\n",
    "print(table)"
   ]
  },
  {
   "cell_type": "markdown",
   "metadata": {},
   "source": [
    "### Visualized the reactions that using aromatic-aliphatic-distinguighing templates cannot recover."
   ]
  },
  {
   "cell_type": "code",
   "execution_count": 6,
   "metadata": {},
   "outputs": [
    {
     "name": "stdout",
     "output_type": "stream",
     "text": [
      "['[cH:1]1[cH:2][cH:3][c:4]([B-:16]([c:17]2[cH:18][cH:19][cH:20][cH:21][cH:22]2)([c:23]2[cH:24][cH:25][cH:26][cH:27][cH:28]2)[c:29]2[cH:30][cH:31][cH:32][cH:33][cH:34]2)[cH:14][cH:15]1.[nH:5]1[cH:6][n:7][c:8]2[cH:9][cH:10][cH:11][cH:12][c:13]12']\n"
     ]
    }
   ],
   "source": [
    "import sys\n",
    "sys.path.append(\"../\")\n",
    "from autotemplate.extract_utils import extract_from_rxn_smiles\n",
    "from autotemplate.run_utils import rdchiralRunText_modified\n",
    "\n",
    "rxn_smiles = \"[nH:5]1[cH:6][n:7][c:8]2[cH:9][cH:10][cH:11][cH:12][c:13]12.c1ccc([B-](c2ccccc2)(c2ccccc2)[c:4]2[cH:3][cH:2][cH:1][cH:15][cH:14]2)cc1>>[cH:1]1[cH:2][cH:3][c:4](-[n:5]2[cH:6][n:7][c:8]3[cH:9][cH:10][cH:11][cH:12][c:13]23)[cH:14][cH:15]1\"\n",
    "product = rxn_smiles.split(\">>\")[1]\n",
    "reaction_ids = \"50699132\"\n",
    "generic_template = extract_from_rxn_smiles(rxn_smiles)\n",
    "aromatic_aliphatic_distinguighing_template = \"[c:1]-[n:2]>>[c:1]-[B-](-c1:c:c:c:c:c:1)(-c1:c:c:c:c:c:1)-c1:c:c:c:c:c:1.[n:2]\"\n",
    "\n",
    "print(rdchiralRunText_modified(generic_template, product))"
   ]
  },
  {
   "cell_type": "code",
   "execution_count": 149,
   "metadata": {},
   "outputs": [
    {
     "data": {
      "text/plain": [
       "'[NH:5]1[CH:6]=[N:7][C:8]2=[CH:9][CH:10]=[CH:11][CH:12]=[C:13]12'"
      ]
     },
     "execution_count": 149,
     "metadata": {},
     "output_type": "execute_result"
    }
   ],
   "source": [
    "from rdkit import Chem\n",
    "mol = Chem.MolFromSmiles(\"[nH:5]1[cH:6][n:7][c:8]2[cH:9][cH:10][cH:11][cH:12][c:13]12\")\n",
    "Chem.Kekulize(mol)\n",
    "Chem.MolToSmiles(mol, kekuleSmiles=True)"
   ]
  },
  {
   "cell_type": "code",
   "execution_count": 152,
   "metadata": {},
   "outputs": [],
   "source": [
    "import CGRtools\n",
    "from CGRtools.containers import ReactionContainer, MoleculeContainer\n",
    "\n",
    "def cgr_representation(rxn_smiles):\n",
    "    r = CGRtools.smiles(rxn_smiles)\n",
    "    r.clean2d()\n",
    "    cgr = ~r\n",
    "    return cgr.__str__()\n",
    "\n",
    "rxn_smiles = \"Cl[C:1]([CH3:2])=[O:3].[CH3:4][c:5]1[cH:6][cH:7][cH:8][cH:9][c:10]1[OH:11]>>[C:1]([CH3:2])(=[O:3])[O:11][c:10]1[c:5]([CH3:4])[cH:6][cH:7][cH:8][cH:9]1\"\n",
    "rxn_smiles = \"[nH:5]1[cH:6][n:7][c:8]2[cH:9][cH:10][cH:11][cH:12][c:13]12.c1ccc([B-](c2ccccc2)(c2ccccc2)[c:4]2[cH:3][cH:2][cH:1][cH:15][cH:14]2)cc1>>[cH:1]1[cH:2][cH:3][c:4](-[n:5]2[cH:6][n:7][c:8]3[cH:9][cH:10][cH:11][cH:12][c:13]23)[cH:14][cH:15]1\"\n",
    "r = CGRtools.smiles(\"[nH:5]1[cH:6][n:7][c:8]2[cH:9][cH:10][cH:11][cH:12][c:13]12.c1ccc([B-](c2ccccc2)(c2ccccc2)[c:4]2[cH:3][cH:2][cH:1][cH:15][cH:14]2)cc1\")\n",
    "# r.clean2d()\n",
    "p = CGRtools.smiles(\"[cH:1]1[cH:2][cH:3][c:4](-[n:5]2[cH:6][n:7][c:8]3[cH:9][cH:10][cH:11][cH:12][c:13]23)[cH:14][cH:15]1\")\n",
    "# p.clean2d()\n",
    "\n",
    "cgr = r^p\n",
    "# cgr.clean2d()\n",
    "\n",
    "decomposed = ReactionContainer.from_cgr(cgr)\n",
    "# decomposed.clean2d()\n",
    "decomposed\n",
    "# decomposed.fix_mapping(logging=True)\n",
    "m = decomposed.products[0]\n",
    "# # print(m)\n",
    "# reactant_part, product_part = cgr.decompose()\n",
    "# print(product_part)\n",
    "# product_part.\n"
   ]
  },
  {
   "cell_type": "code",
   "execution_count": 159,
   "metadata": {},
   "outputs": [
    {
     "name": "stdout",
     "output_type": "stream",
     "text": [
      "(1, C())\n"
     ]
    },
    {
     "ename": "TypeError",
     "evalue": "expected 1 arguments, got 0",
     "output_type": "error",
     "traceback": [
      "\u001b[0;31m---------------------------------------------------------------------------\u001b[0m",
      "\u001b[0;31mTypeError\u001b[0m                                 Traceback (most recent call last)",
      "\u001b[0;32m<ipython-input-159-802ba483af15>\u001b[0m in \u001b[0;36m<module>\u001b[0;34m\u001b[0m\n\u001b[1;32m      3\u001b[0m     \u001b[0;32mbreak\u001b[0m\u001b[0;34m\u001b[0m\u001b[0;34m\u001b[0m\u001b[0m\n\u001b[1;32m      4\u001b[0m \u001b[0maf\u001b[0m \u001b[0;34m=\u001b[0m \u001b[0ma\u001b[0m\u001b[0;34m[\u001b[0m\u001b[0;36m1\u001b[0m\u001b[0;34m]\u001b[0m\u001b[0;34m\u001b[0m\u001b[0;34m\u001b[0m\u001b[0m\n\u001b[0;32m----> 5\u001b[0;31m \u001b[0maf\u001b[0m\u001b[0;34m.\u001b[0m\u001b[0m__getattribute__\u001b[0m\u001b[0;34m(\u001b[0m\u001b[0;34m)\u001b[0m\u001b[0;34m\u001b[0m\u001b[0;34m\u001b[0m\u001b[0m\n\u001b[0m",
      "\u001b[0;31mTypeError\u001b[0m: expected 1 arguments, got 0"
     ]
    }
   ],
   "source": [
    "for a in m.atoms():\n",
    "    print(a)\n",
    "    break\n",
    "af = a[1]\n",
    "af"
   ]
  },
  {
   "cell_type": "code",
   "execution_count": 140,
   "metadata": {},
   "outputs": [
    {
     "data": {
      "image/svg+xml": [
       "<svg width=\"5.79cm\" height=\"5.37cm\" viewBox=\"17.13 -2.69 5.79 5.37\" xmlns=\"http://www.w3.org/2000/svg\" version=\"1.1\">\n",
       "  <g>\n",
       "    <defs>\n",
       "      <mask id=\"mask-d89360bf-f231-403f-8af3-a56c8c7f60e7\">\n",
       "        <rect x=\"17.13\" y=\"-2.69\" width=\"5.79\" height=\"5.37\" fill=\"white\"/>\n",
       "        <g fill=\"black\">\n",
       "          <circle cx=\"19.90\" cy=\"0.41\" r=\"0.20\"/>\n",
       "        </g>\n",
       "        <g font-family=\"monospace\" stroke=\"black\">\n",
       "          <g font-family=\"sans-serif\" font-size=\"0.50\" stroke-width=\"0.05\">\n",
       "            <text x=\"19.90\" y=\"0.41\" dx=\"-0.20\" dy=\"0.20\">BH</text>\n",
       "          </g>\n",
       "          <g font-size=\"0.25\" stroke-width=\"0.03\">\n",
       "            <text x=\"22.05\" y=\"1.65\" dx=\"-0.05\" dy=\"0.20\" text-anchor=\"end\">16</text>\n",
       "            <text x=\"22.05\" y=\"0.82\" dx=\"-0.05\" dy=\"0.20\" text-anchor=\"end\">17</text>\n",
       "            <text x=\"21.33\" y=\"0.41\" dx=\"-0.05\" dy=\"0.20\" text-anchor=\"end\">18</text>\n",
       "            <text x=\"20.62\" y=\"0.82\" dx=\"-0.05\" dy=\"0.20\" text-anchor=\"end\">19</text>\n",
       "            <text x=\"19.90\" y=\"0.41\" dx=\"-0.15\" dy=\"0.35\" text-anchor=\"end\">20</text>\n",
       "            <text x=\"19.19\" y=\"0.83\" dx=\"-0.05\" dy=\"0.20\" text-anchor=\"end\">21</text>\n",
       "            <text x=\"19.19\" y=\"1.65\" dx=\"-0.05\" dy=\"0.20\" text-anchor=\"end\">22</text>\n",
       "            <text x=\"18.47\" y=\"2.06\" dx=\"-0.05\" dy=\"0.20\" text-anchor=\"end\">23</text>\n",
       "            <text x=\"17.76\" y=\"1.65\" dx=\"-0.05\" dy=\"0.20\" text-anchor=\"end\">24</text>\n",
       "            <text x=\"17.76\" y=\"0.82\" dx=\"-0.05\" dy=\"0.20\" text-anchor=\"end\">25</text>\n",
       "            <text x=\"18.47\" y=\"0.41\" dx=\"-0.05\" dy=\"0.20\" text-anchor=\"end\">26</text>\n",
       "            <text x=\"19.90\" y=\"-0.41\" dx=\"-0.05\" dy=\"0.20\" text-anchor=\"end\">27</text>\n",
       "            <text x=\"20.62\" y=\"-0.82\" dx=\"-0.05\" dy=\"0.20\" text-anchor=\"end\">28</text>\n",
       "            <text x=\"20.62\" y=\"-1.65\" dx=\"-0.05\" dy=\"0.20\" text-anchor=\"end\">29</text>\n",
       "            <text x=\"19.90\" y=\"-2.06\" dx=\"-0.05\" dy=\"0.20\" text-anchor=\"end\">30</text>\n",
       "            <text x=\"19.19\" y=\"-1.65\" dx=\"-0.05\" dy=\"0.20\" text-anchor=\"end\">31</text>\n",
       "            <text x=\"19.19\" y=\"-0.82\" dx=\"-0.05\" dy=\"0.20\" text-anchor=\"end\">32</text>\n",
       "            <text x=\"20.62\" y=\"1.65\" dx=\"-0.05\" dy=\"0.20\" text-anchor=\"end\">33</text>\n",
       "            <text x=\"21.33\" y=\"2.06\" dx=\"-0.05\" dy=\"0.20\" text-anchor=\"end\">34</text>\n",
       "          </g>\n",
       "          <g font-family=\"monospace\" font-size=\"0.3\" stroke-width=\"0.03\">\n",
       "           <text x=\"19.90\" y=\"0.41\" dx=\"0.05\" dy=\"-0.20\">-</text>\n",
       "          </g>\n",
       "        </g>\n",
       "      </mask>\n",
       "    </defs>\n",
       "    <g fill=\"none\" stroke=\"black\" stroke-width=\"0.04\"  mask=\"url(#mask-d89360bf-f231-403f-8af3-a56c8c7f60e7)\">\n",
       "      <line x1=\"22.05\" y1=\"1.65\" x2=\"22.05\" y2=\"0.82\"/>\n",
       "      <line x1=\"22.05\" y1=\"1.65\" x2=\"21.33\" y2=\"2.06\"/>\n",
       "      <line x1=\"22.05\" y1=\"0.82\" x2=\"21.33\" y2=\"0.41\"/>\n",
       "      <line x1=\"21.33\" y1=\"0.41\" x2=\"20.62\" y2=\"0.82\"/>\n",
       "      <line x1=\"20.62\" y1=\"0.82\" x2=\"19.90\" y2=\"0.41\"/>\n",
       "      <line x1=\"20.62\" y1=\"0.82\" x2=\"20.62\" y2=\"1.65\"/>\n",
       "      <line x1=\"19.90\" y1=\"0.41\" x2=\"19.19\" y2=\"0.83\"/>\n",
       "      <line x1=\"19.90\" y1=\"0.41\" x2=\"19.90\" y2=\"-0.41\"/>\n",
       "      <line x1=\"19.19\" y1=\"0.83\" x2=\"19.19\" y2=\"1.65\"/>\n",
       "      <line x1=\"19.19\" y1=\"0.83\" x2=\"18.47\" y2=\"0.41\"/>\n",
       "      <line x1=\"19.19\" y1=\"1.65\" x2=\"18.47\" y2=\"2.06\"/>\n",
       "      <line x1=\"18.47\" y1=\"2.06\" x2=\"17.76\" y2=\"1.65\"/>\n",
       "      <line x1=\"17.76\" y1=\"1.65\" x2=\"17.76\" y2=\"0.82\"/>\n",
       "      <line x1=\"17.76\" y1=\"0.82\" x2=\"18.47\" y2=\"0.41\"/>\n",
       "      <line x1=\"19.90\" y1=\"-0.41\" x2=\"20.62\" y2=\"-0.82\"/>\n",
       "      <line x1=\"19.90\" y1=\"-0.41\" x2=\"19.19\" y2=\"-0.82\"/>\n",
       "      <line x1=\"20.62\" y1=\"-0.82\" x2=\"20.62\" y2=\"-1.65\"/>\n",
       "      <line x1=\"20.62\" y1=\"-1.65\" x2=\"19.90\" y2=\"-2.06\"/>\n",
       "      <line x1=\"19.90\" y1=\"-2.06\" x2=\"19.19\" y2=\"-1.65\"/>\n",
       "      <line x1=\"19.19\" y1=\"-1.65\" x2=\"19.19\" y2=\"-0.82\"/>\n",
       "      <line x1=\"20.62\" y1=\"1.65\" x2=\"21.33\" y2=\"2.06\"/>\n",
       "      <line x1=\"21.91\" y1=\"1.57\" x2=\"21.91\" y2=\"0.91\" stroke-dasharray=\"0.15 0.05\"/>\n",
       "      <line x1=\"21.91\" y1=\"0.91\" x2=\"21.33\" y2=\"0.57\" stroke-dasharray=\"0.15 0.05\"/>\n",
       "      <line x1=\"21.33\" y1=\"0.57\" x2=\"20.76\" y2=\"0.91\" stroke-dasharray=\"0.15 0.05\"/>\n",
       "      <line x1=\"20.76\" y1=\"0.91\" x2=\"20.76\" y2=\"1.57\" stroke-dasharray=\"0.15 0.05\"/>\n",
       "      <line x1=\"20.76\" y1=\"1.57\" x2=\"21.33\" y2=\"1.90\" stroke-dasharray=\"0.15 0.05\"/>\n",
       "      <line x1=\"21.33\" y1=\"1.90\" x2=\"21.91\" y2=\"1.57\" stroke-dasharray=\"0.15 0.05\"/>\n",
       "      <line x1=\"19.90\" y1=\"-0.57\" x2=\"20.48\" y2=\"-0.91\" stroke-dasharray=\"0.15 0.05\"/>\n",
       "      <line x1=\"20.48\" y1=\"-0.91\" x2=\"20.48\" y2=\"-1.57\" stroke-dasharray=\"0.15 0.05\"/>\n",
       "      <line x1=\"20.48\" y1=\"-1.57\" x2=\"19.90\" y2=\"-1.90\" stroke-dasharray=\"0.15 0.05\"/>\n",
       "      <line x1=\"19.90\" y1=\"-1.90\" x2=\"19.33\" y2=\"-1.57\" stroke-dasharray=\"0.15 0.05\"/>\n",
       "      <line x1=\"19.33\" y1=\"-1.57\" x2=\"19.33\" y2=\"-0.91\" stroke-dasharray=\"0.15 0.05\"/>\n",
       "      <line x1=\"19.33\" y1=\"-0.91\" x2=\"19.90\" y2=\"-0.57\" stroke-dasharray=\"0.15 0.05\"/>\n",
       "      <line x1=\"19.05\" y1=\"0.91\" x2=\"19.05\" y2=\"1.57\" stroke-dasharray=\"0.15 0.05\"/>\n",
       "      <line x1=\"19.05\" y1=\"1.57\" x2=\"18.47\" y2=\"1.90\" stroke-dasharray=\"0.15 0.05\"/>\n",
       "      <line x1=\"18.47\" y1=\"1.90\" x2=\"17.90\" y2=\"1.57\" stroke-dasharray=\"0.15 0.05\"/>\n",
       "      <line x1=\"17.90\" y1=\"1.57\" x2=\"17.90\" y2=\"0.91\" stroke-dasharray=\"0.15 0.05\"/>\n",
       "      <line x1=\"17.90\" y1=\"0.91\" x2=\"18.47\" y2=\"0.57\" stroke-dasharray=\"0.15 0.05\"/>\n",
       "      <line x1=\"18.47\" y1=\"0.57\" x2=\"19.05\" y2=\"0.91\" stroke-dasharray=\"0.15 0.05\"/>\n",
       "    </g>\n",
       "    <g font-family=\"monospace\">\n",
       "      <g fill=\"#FFB5B5\" font-family=\"sans-serif\">\n",
       "        <text x=\"19.90\" y=\"0.41\" dx=\"-0.20\" dy=\"0.20\" font-size=\"0.50\">BH</text>\n",
       "      </g>\n",
       "      <g font-family=\"monospace\" fill=\"black\" font-size=\"0.30\">\n",
       "        <text x=\"19.90\" y=\"0.41\" dx=\"0.05\" dy=\"-0.20\">-</text>\n",
       "      </g>\n",
       "      <g fill=\"#0305A7\" font-size=\"0.25\">\n",
       "        <text x=\"22.05\" y=\"1.65\" dx=\"-0.05\" dy=\"0.20\" text-anchor=\"end\">16</text>\n",
       "        <text x=\"22.05\" y=\"0.82\" dx=\"-0.05\" dy=\"0.20\" text-anchor=\"end\">17</text>\n",
       "        <text x=\"21.33\" y=\"0.41\" dx=\"-0.05\" dy=\"0.20\" text-anchor=\"end\">18</text>\n",
       "        <text x=\"20.62\" y=\"0.82\" dx=\"-0.05\" dy=\"0.20\" text-anchor=\"end\">19</text>\n",
       "        <text x=\"19.90\" y=\"0.41\" dx=\"-0.15\" dy=\"0.35\" text-anchor=\"end\">20</text>\n",
       "        <text x=\"19.19\" y=\"0.83\" dx=\"-0.05\" dy=\"0.20\" text-anchor=\"end\">21</text>\n",
       "        <text x=\"19.19\" y=\"1.65\" dx=\"-0.05\" dy=\"0.20\" text-anchor=\"end\">22</text>\n",
       "        <text x=\"18.47\" y=\"2.06\" dx=\"-0.05\" dy=\"0.20\" text-anchor=\"end\">23</text>\n",
       "        <text x=\"17.76\" y=\"1.65\" dx=\"-0.05\" dy=\"0.20\" text-anchor=\"end\">24</text>\n",
       "        <text x=\"17.76\" y=\"0.82\" dx=\"-0.05\" dy=\"0.20\" text-anchor=\"end\">25</text>\n",
       "        <text x=\"18.47\" y=\"0.41\" dx=\"-0.05\" dy=\"0.20\" text-anchor=\"end\">26</text>\n",
       "        <text x=\"19.90\" y=\"-0.41\" dx=\"-0.05\" dy=\"0.20\" text-anchor=\"end\">27</text>\n",
       "        <text x=\"20.62\" y=\"-0.82\" dx=\"-0.05\" dy=\"0.20\" text-anchor=\"end\">28</text>\n",
       "        <text x=\"20.62\" y=\"-1.65\" dx=\"-0.05\" dy=\"0.20\" text-anchor=\"end\">29</text>\n",
       "        <text x=\"19.90\" y=\"-2.06\" dx=\"-0.05\" dy=\"0.20\" text-anchor=\"end\">30</text>\n",
       "        <text x=\"19.19\" y=\"-1.65\" dx=\"-0.05\" dy=\"0.20\" text-anchor=\"end\">31</text>\n",
       "        <text x=\"19.19\" y=\"-0.82\" dx=\"-0.05\" dy=\"0.20\" text-anchor=\"end\">32</text>\n",
       "        <text x=\"20.62\" y=\"1.65\" dx=\"-0.05\" dy=\"0.20\" text-anchor=\"end\">33</text>\n",
       "        <text x=\"21.33\" y=\"2.06\" dx=\"-0.05\" dy=\"0.20\" text-anchor=\"end\">34</text>\n",
       "      </g>\n",
       "    </g>\n",
       "  </g>\n",
       "</svg>"
      ],
      "text/plain": [
       "<CGRtools.containers.molecule.MoleculeContainer at 0x7f85f2b8b260>"
      ]
     },
     "execution_count": 140,
     "metadata": {},
     "output_type": "execute_result"
    }
   ],
   "source": [
    "m"
   ]
  },
  {
   "cell_type": "code",
   "execution_count": 125,
   "metadata": {},
   "outputs": [
    {
     "name": "stdout",
     "output_type": "stream",
     "text": [
      "{16: 1, 24: 1, 30: 1, 1: 1, 20: 2, 18: 3, 22: 3, 26: 3, 28: 3, 32: 3, 33: 3, 3: 3, 14: 3, 19: 4, 21: 4, 27: 4, 4: 4, 17: 5, 23: 5, 25: 5, 29: 5, 31: 5, 34: 5, 2: 5, 15: 5}\n"
     ]
    },
    {
     "data": {
      "text/plain": [
       "True"
      ]
     },
     "execution_count": 125,
     "metadata": {},
     "output_type": "execute_result"
    }
   ],
   "source": [
    "m = decomposed.reactants[0]\n",
    "print(m.atoms_order)\n",
    "m in [m, r]"
   ]
  },
  {
   "cell_type": "code",
   "execution_count": 122,
   "metadata": {},
   "outputs": [
    {
     "name": "stdout",
     "output_type": "stream",
     "text": [
      "(16, C())\n",
      "(16, 17, Bond(4))\n",
      "0\n",
      "C\n"
     ]
    }
   ],
   "source": [
    "for atom in m.atoms():\n",
    "    print(atom)\n",
    "    a = atom[1]\n",
    "    break\n",
    "for bond in m.bonds():\n",
    "    print(bond)\n",
    "    break\n",
    "print(a.charge)\n",
    "print(a.atomic_symbol)"
   ]
  },
  {
   "cell_type": "code",
   "execution_count": 117,
   "metadata": {},
   "outputs": [
    {
     "data": {
      "text/plain": [
       "14"
      ]
     },
     "execution_count": 117,
     "metadata": {},
     "output_type": "execute_result"
    }
   ],
   "source": [
    "b = bond[2]\n",
    "b.order\n",
    "\n"
   ]
  },
  {
   "cell_type": "code",
   "execution_count": 115,
   "metadata": {},
   "outputs": [
    {
     "data": {
      "text/plain": [
       "'[c:2]1([NH3+:21])[c:3]([OH:19])[cH:5][cH:7][cH:8][cH:9]1'"
      ]
     },
     "execution_count": 115,
     "metadata": {},
     "output_type": "execute_result"
    }
   ],
   "source": [
    "from rdkit import Chem\n",
    "def MolFromGraphs(node_list, adjacency_matrix, mapping_num_list, charge_list):\n",
    "    mol = Chem.RWMol()\n",
    "    node_to_idx = {}\n",
    "    idx_to_mapping_num = {}\n",
    "    idx_to_charge = {}\n",
    "    for i in range(len(node_list)):\n",
    "        a = Chem.Atom(node_list[i])\n",
    "        molIdx = mol.AddAtom(a)\n",
    "        node_to_idx[i] = molIdx\n",
    "        idx_to_mapping_num[molIdx] = mapping_num_list[i]\n",
    "        idx_to_charge[molIdx] = charge_list[i]\n",
    "\n",
    "    # add bonds between adjacent atoms\n",
    "    for ix, row in enumerate(adjacency_matrix):\n",
    "        for iy, bond in enumerate(row):\n",
    "            # only traverse half the matrix\n",
    "            if iy <= ix:\n",
    "                continue\n",
    "            if bond == 0:\n",
    "                continue\n",
    "            elif bond == 1:\n",
    "                bond_type = Chem.rdchem.BondType.SINGLE\n",
    "                mol.AddBond(node_to_idx[ix], node_to_idx[iy], bond_type)\n",
    "            elif bond == 2:\n",
    "                bond_type = Chem.rdchem.BondType.DOUBLE\n",
    "                mol.AddBond(node_to_idx[ix], node_to_idx[iy], bond_type)\n",
    "            elif bond == 3:\n",
    "                bond_type = Chem.rdchem.BondType.TRIPLE\n",
    "                mol.AddBond(node_to_idx[ix], node_to_idx[iy], bond_type)\n",
    "            elif bond == 4:\n",
    "                bond_type = Chem.rdchem.BondType.AROMATIC\n",
    "                mol.AddBond(node_to_idx[ix], node_to_idx[iy], bond_type)\n",
    "    \n",
    "    for molIdx, mapping_num in idx_to_mapping_num.items():\n",
    "        atom = mol.GetAtomWithIdx(molIdx)\n",
    "        atom.SetAtomMapNum(mapping_num)\n",
    "        atom.SetFormalCharge(idx_to_charge[molIdx])\n",
    "    mol = mol.GetMol()\n",
    "    return mol\n",
    "\n",
    "nodes = [\"C\", \"C\", \"C\", \"C\", \"C\", \"C\", \"O\", \"N\"]\n",
    "mapping_num_list = [2, 3, 5, 7, 8, 9, 19, 21]\n",
    "charge_list = [0,0,0,0,0,0,0,+1]\n",
    "a = [[ 0.,  4.,  0.,  0.,  0.,  4.,  0.,  1.],\n",
    "     [ 4.,  0.,  4.,  0.,  0.,  0.,  1.,  0.],\n",
    "     [ 0.,  4.,  0.,  4.,  0.,  0.,  0.,  0.],\n",
    "     [ 0.,  0.,  4.,  0.,  4.,  0.,  0.,  0.],\n",
    "     [ 0.,  0.,  0.,  4.,  0.,  4.,  0.,  0.],\n",
    "     [ 4.,  0.,  0.,  0.,  4.,  0.,  0.,  0.],\n",
    "     [ 0.,  1.,  0.,  0.,  0.,  0.,  0.,  0.],\n",
    "     [ 1.,  0.,  0.,  0.,  0.,  0.,  0.,  0.]]\n",
    "\n",
    "test_mol = MolFromGraphs(nodes, a, mapping_num_list, charge_list)\n",
    "Chem.MolToSmiles(test_mol)\n"
   ]
  },
  {
   "cell_type": "markdown",
   "metadata": {},
   "source": [
    "## Analysis of downsampling"
   ]
  },
  {
   "cell_type": "code",
   "execution_count": 9,
   "metadata": {},
   "outputs": [
    {
     "name": "stdout",
     "output_type": "stream",
     "text": [
      "+--------------------------------+---------------------+---------------------------+---------------------+---------------------------+---------------------+---------------------------+---------------------+---------------------------+----------------------+----------------------------+\n",
      "|         Reaction name          | No. templates (10%) | Resiudal proportion (10%) | No. templates (25%) | Resiudal proportion (25%) | No. templates (50%) | Resiudal proportion (50%) | No. templates (75%) | Resiudal proportion (75%) | No. templates (100%) | Resiudal proportion (100%) |\n",
      "+--------------------------------+---------------------+---------------------------+---------------------+---------------------------+---------------------+---------------------------+---------------------+---------------------------+----------------------+----------------------------+\n",
      "|      AdamsDecarboxylation      |          5          |           37.26           |          9          |           42.79           |          25         |           53.79           |          40         |           59.18           |          54          |           62.25            |\n",
      "|     Baylis-HillmanReaction     |          6          |           62.80           |          28         |           70.47           |          58         |           77.40           |          77         |           79.75           |          84          |           81.27            |\n",
      "| Buchwald-HartwigCross-Coupling |          14         |           84.62           |          29         |           86.37           |          56         |           89.04           |          77         |           90.19           |          96          |           90.65            |\n",
      "|        Chan_LamCoupling        |          7          |           84.30           |          14         |           88.44           |          22         |           89.89           |          33         |           91.28           |          43          |           92.11            |\n",
      "|           DielsAlder           |          24         |           57.44           |          65         |           63.87           |         128         |           69.40           |         206         |           73.09           |         258          |           74.81            |\n",
      "|     FischerIndoleSynthesis     |          4          |           82.46           |          10         |           83.68           |          18         |           84.62           |          22         |           85.28           |          28          |           85.88            |\n",
      "|    Friedel-CraftsAcylation     |          15         |           63.73           |          40         |           74.32           |          70         |           78.66           |          98         |           81.38           |         118          |           82.89            |\n",
      "|    Friedel-CraftsAlkylation    |          23         |           67.69           |          54         |           73.89           |         104         |           78.05           |         138         |           80.17           |         164          |           81.27            |\n",
      "|        GrignardReaction        |          21         |           58.61           |          56         |           65.49           |          90         |           68.65           |         124         |           71.46           |         154          |           73.19            |\n",
      "|         HiyamaCoupling         |          15         |           46.08           |          40         |           63.70           |          68         |           74.51           |          93         |           79.58           |         106          |           81.71            |\n",
      "|         Hydrogenation          |          43         |           57.68           |          83         |           62.45           |         162         |           65.72           |         226         |           67.61           |         306          |           69.44            |\n",
      "|    Kabachnik-FieldsReaction    |          3          |           86.71           |          10         |           90.45           |          11         |           90.53           |          12         |           90.74           |          14          |           91.44            |\n",
      "|         KumadaCoupling         |          13         |           83.02           |          29         |           85.61           |          49         |           87.42           |          67         |           88.52           |          82          |           89.11            |\n",
      "|        MannichReaction         |          41         |           72.79           |          80         |           77.33           |         167         |           82.68           |         218         |           84.68           |         271          |           86.00            |\n",
      "|        NegishiCoupling         |          28         |           65.69           |          61         |           76.16           |         107         |           82.53           |         131         |           84.05           |         146          |           84.92            |\n",
      "|      PausonKhandReaction       |          3          |           65.56           |          5          |           66.52           |          11         |           69.21           |          14         |           70.45           |          19          |           72.36            |\n",
      "|       ReductiveAmination       |          3          |           96.73           |          7          |           96.85           |          8          |           97.10           |          13         |           97.03           |          16          |           97.07            |\n",
      "|         SuzukiCoupling         |          31         |           96.57           |          74         |           97.36           |         122         |           97.81           |         165         |           98.02           |         216          |           98.15            |\n",
      "|         WittigReaction         |          12         |           75.93           |          26         |           79.14           |          50         |           81.71           |          77         |           84.07           |          94          |           84.79            |\n",
      "+--------------------------------+---------------------+---------------------------+---------------------+---------------------------+---------------------+---------------------------+---------------------+---------------------------+----------------------+----------------------------+\n"
     ]
    }
   ],
   "source": [
    "percents = [str(10), str(25), str(50), str(75)]\n",
    "table = PrettyTable()\n",
    "table.field_names = [\"Reaction name\", \"No. templates (10%)\", \"Resiudal proportion (10%)\", \"No. templates (25%)\", \"Resiudal proportion (25%)\", \n",
    "                     \"No. templates (50%)\", \"Resiudal proportion (50%)\", \"No. templates (75%)\", \"Resiudal proportion (75%)\", \"No. templates (100%)\", \"Resiudal proportion (100%)\"]\n",
    "for rxn in all_rxn_class:\n",
    "    table_row = [rxn]\n",
    "    for percent in percents:\n",
    "        rp_percent_data = get_residual_proportion(f\"../data_{percent}perc/{rxn}/MappingResult_{rxn}.txt\")\n",
    "        num_percent_template = get_num_templates(f\"../data_{percent}perc/{rxn}/all_templates_used.csv\")\n",
    "        table_row += [num_percent_template, rp_percent_data]\n",
    "    rp_frist_data = get_residual_proportion(f\"../data/{rxn}/MappingResult_{rxn}.txt\")\n",
    "    num_first_template = get_num_templates(f\"../data/{rxn}/all_templates_used.csv\")\n",
    "    table_row += [num_first_template, rp_frist_data]\n",
    "    table.add_row(table_row)\n",
    "print(table)"
   ]
  }
 ],
 "metadata": {
  "kernelspec": {
   "display_name": "autotemplate",
   "language": "python",
   "name": "python3"
  },
  "language_info": {
   "codemirror_mode": {
    "name": "ipython",
    "version": 3
   },
   "file_extension": ".py",
   "mimetype": "text/x-python",
   "name": "python",
   "nbconvert_exporter": "python",
   "pygments_lexer": "ipython3",
   "version": "3.7.12"
  }
 },
 "nbformat": 4,
 "nbformat_minor": 2
}
