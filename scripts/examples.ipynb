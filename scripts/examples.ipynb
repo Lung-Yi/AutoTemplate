{
 "cells": [
  {
   "cell_type": "code",
   "execution_count": 1,
   "metadata": {},
   "outputs": [],
   "source": [
    "import os\n",
    "import sys\n",
    "module_path = os.path.abspath(os.path.join('..'))\n",
    "if module_path not in sys.path:\n",
    "    sys.path.append(module_path)\n",
    "\n",
    "from autotemplate.extract_utils import extract_from_rxn_smiles, canon_remap\n",
    "from autotemplate.run_utils import rdchiralRunText_modified, RemoveReagent, clearIsotope\n",
    "from autotemplate.graph_utils import mapping_for_gold_multiple_smiles, find_unique_templates_dict, countBCN, GetAnswer\n",
    "\n",
    "from rdkit import Chem\n",
    "from rdkit.Chem import Draw\n",
    "from rdkit.Chem.Draw import rdMolDraw2D\n",
    "from rdkit.Chem import rdChemReactions as Reactions\n",
    "from rdkit.Chem.Draw import IPythonConsole\n",
    "from PIL import Image\n",
    "\n",
    "from rdchiral.template_extractor import extract_from_reaction as rdchiral_extract_rxn"
   ]
  },
  {
   "attachments": {},
   "cell_type": "markdown",
   "metadata": {},
   "source": [
    "## 1. Overview of different types of reaction error"
   ]
  },
  {
   "attachments": {},
   "cell_type": "markdown",
   "metadata": {},
   "source": [
    "### (1) Molecules absent in reactant site."
   ]
  },
  {
   "cell_type": "code",
   "execution_count": null,
   "metadata": {},
   "outputs": [],
   "source": [
    "rxn_type = \"ReductiveAmination\"\n",
    "rxn_id = 33800230\n",
    "original_rxn = \"[cH:1]1[cH:15][cH:14][c:13]([CH:12]=[O:4])[cH:18][cH:17]1>>[CH3:1][C:2]([CH2:3][OH:4])([CH2:5][O:6][CH2:7][C:8](=[O:9])[Cl:10])[NH:11][CH2:12][c:13]1[cH:14][cH:15][cH:16][cH:17][cH:18]1\"\n",
    "rxn_1 = Reactions.ReactionFromSmarts(original_rxn, useSmiles=True)\n",
    "correct_rxn = \"[CH:12]([c:13]1[cH:14][cH:15][cH:16][cH:17][cH:18]1)=[O:19].[CH3:1][C:2]([CH2:3][OH:4])([CH2:5][O:6][CH2:7][C:8](=[O:9])[Cl:10])[NH2:11]>>[CH3:1][C:2]([CH2:3][OH:4])([CH2:5][O:6][CH2:7][C:8](=[O:9])[Cl:10])[NH:11][CH2:12][c:13]1[cH:14][cH:15][cH:16][cH:17][cH:18]1\"\n",
    "rxn_2 = Reactions.ReactionFromSmarts(correct_rxn, useSmiles=True)\n",
    "\n",
    "print(\"original reaction type: {}, reaction id: {}\".format(rxn_type, rxn_id))\n",
    "display(Draw.ReactionToImage(rxn_1))\n",
    "print(\"After processed:\")\n",
    "display(Draw.ReactionToImage(rxn_2))"
   ]
  },
  {
   "attachments": {},
   "cell_type": "markdown",
   "metadata": {},
   "source": [
    "### (2) Somehow new atoms in the product site"
   ]
  },
  {
   "cell_type": "code",
   "execution_count": null,
   "metadata": {},
   "outputs": [],
   "source": [
    "rxn_type = \"DielsAlder\"\n",
    "rxn_id = 30743792\n",
    "original_rxn = \"[CH2:1]=[CH:10][CH:11]=[O:12].[CH:2]1=[CH:3][CH:9]=[CH:5][CH2:6][CH2:7][CH2:8]1>>[CH3:1][C@:2]12[CH:3]=[CH:4][C@H:5]([CH2:6][CH2:7][CH2:8]1)[CH2:9][C@H:10]2[CH:11]=[O:12]\"\n",
    "rxn_1 = Reactions.ReactionFromSmarts(original_rxn, useSmiles=True)\n",
    "\n",
    "print(\"original reaction type: {}, reaction id: {}\".format(rxn_type, rxn_id))\n",
    "display(Draw.ReactionToImage(rxn_1))\n",
    "print(\"--- This reaction should be discarded because of the unmatched C:1 atom in the product site. ---\")"
   ]
  },
  {
   "cell_type": "code",
   "execution_count": null,
   "metadata": {},
   "outputs": [],
   "source": [
    "rxn_type = \"Friedel-CraftsAcylation\"\n",
    "rxn_id = 40781365\n",
    "original_rxn = \"[O:1]=[C:2]([CH3:3])[C:12]([C:10](=[O:4])[c:9]1[cH:5][cH:6][cH:7][s:8]1)=[C:13]1[S:14][CH2:15][CH2:16][S:17]1>>[O:1]=[C:2]1[C:3](=[O:4])[c:5]2[cH:6][cH:7][s:8][c:9]2[C:10](=[O:11])[C:12]1=[C:13]1[S:14][CH2:15][CH2:16][S:17]1\"\n",
    "rxn_1 = Reactions.ReactionFromSmarts(original_rxn, useSmiles=True)\n",
    "\n",
    "print(\"original reaction type: {}, reaction id: {}\".format(rxn_type, rxn_id))\n",
    "display(Draw.ReactionToImage(rxn_1))\n",
    "print(\"--- This reaction should be discarded because of the unmatched O:4 atom in the product site. ---\")"
   ]
  },
  {
   "attachments": {},
   "cell_type": "markdown",
   "metadata": {},
   "source": [
    "### (3) The uncommon reaction not belonging to its reaction type (with too less templates)"
   ]
  },
  {
   "cell_type": "code",
   "execution_count": null,
   "metadata": {},
   "outputs": [],
   "source": [
    "rxn_type = \"DielsAlder\"\n",
    "rxn_id = 9021436\n",
    "original_rxn = \"[CH2:13]=[C:14]([CH3:15])[C:16](=[CH2:17])[CH3:18].[CH2:1]=[CH:2][CH2:3][B:4]1[O:5][C:6]([CH3:7])([CH3:8])[C:9]([CH3:10])([CH3:11])[O:12]1>>[CH2:1]=[C:2]([CH2:3][B:4]1[O:5][C:6]([CH3:7])([CH3:8])[C:9]([CH3:10])([CH3:11])[O:12]1)[CH2:13][C:14]([CH3:15])=[C:16]([CH3:17])[CH3:18]\"\n",
    "rxn_1 = Reactions.ReactionFromSmarts(original_rxn, useSmiles=True)\n",
    "\n",
    "print(\"original reaction type: {}, reaction id: {}\".format(rxn_type, rxn_id))\n",
    "display(Draw.ReactionToImage(rxn_1))\n",
    "print(\"--- This reaction should be discarded because of its too rare reaction template. ---\")"
   ]
  },
  {
   "attachments": {},
   "cell_type": "markdown",
   "metadata": {},
   "source": [
    "### (4) Wrong reaction records (cannot be recovered by any other reaction template in the records)"
   ]
  },
  {
   "cell_type": "code",
   "execution_count": null,
   "metadata": {},
   "outputs": [],
   "source": [
    "rxn_type = \"PausonKhandReaction\"\n",
    "rxn_id = 44882622\n",
    "original_rxn = \"[O:1]([C:6]1([CH:5]=[CH2:4])[CH:7]=[CH:8][CH2:10][CH2:11]1)[CH2:13][C:14]#[CH:2]>>[O:1]=[C:2]1[CH:3]=[C:4]2[CH2:5][C:6]3([CH:7]=[CH:8][CH2:9][CH2:10][CH2:11]3)[O:12][CH2:13][CH:14]2[CH2:15]1\"\n",
    "rxn_1 = Reactions.ReactionFromSmarts(original_rxn, useSmiles=True)\n",
    "\n",
    "print(\"original reaction type: {}, reaction id: {}\".format(rxn_type, rxn_id))\n",
    "display(Draw.ReactionToImage(rxn_1))\n",
    "print(\"--- This reaction should be discarded because of the wrong manual recording. ---\")\n",
    "\n",
    "print(\"In the reference, https://www.tandfonline.com/doi/full/10.1080/00397911.2016.1274032\")\n",
    "print(\"The expected reactant of this reaction should be:\")\n",
    "\n",
    "template = \"[#6:4]1-[#6:5]-[#6:1]-[#6:2]=[#6:3]-1>>[#6;H0:1].[#6:2]#[#6:3].[#6:4]=[#6:5]\"\n",
    "product = original_rxn.split('>>')[1]\n",
    "correct_rxn = rdchiralRunText_modified(template, product)[0] + '>>' + product\n",
    "print(correct_rxn)\n",
    "print(GetAnswer(correct_rxn))\n",
    "rxn_2 = Reactions.ReactionFromSmarts(correct_rxn, useSmiles=True)\n",
    "display(Draw.ReactionToImage(rxn_2))"
   ]
  },
  {
   "attachments": {},
   "cell_type": "markdown",
   "metadata": {},
   "source": [
    "# 2. Template extraction procedure and illustration\n",
    "#### It should be noted that the atom charge and radical site cannot be visualized using RDkit package."
   ]
  },
  {
   "attachments": {},
   "cell_type": "markdown",
   "metadata": {},
   "source": [
    "### (1) An simple normal case illustration"
   ]
  },
  {
   "cell_type": "code",
   "execution_count": null,
   "metadata": {},
   "outputs": [],
   "source": [
    "rxn_type = \"GrignardReaction\"\n",
    "rxn_id = 10279043\n",
    "original_rxn = \"Br[c:3]1[cH:4][cH:5][cH:6][cH:7][cH:8]1.[O:1]=[CH:2][c:9]1[cH:10][cH:11][cH:12][c:13]([Br:14])[cH:15]1>>[OH:1][CH:2]([c:3]1[cH:4][cH:5][cH:6][cH:7][cH:8]1)[c:9]1[cH:10][cH:11][cH:12][c:13]([Br:14])[cH:15]1\"\n",
    "rxn_1 = Reactions.ReactionFromSmarts(original_rxn, useSmiles=True)\n",
    "\n",
    "print(\"original reaction type: {}, reaction id: {}\".format(rxn_type, rxn_id))\n",
    "display(Draw.ReactionToImage(rxn_1))\n",
    "\n",
    "reaction = {\"_id\": rxn_id, \"reactants\":original_rxn.split(\">>\")[0], \"products\":original_rxn.split(\">>\")[1]}\n",
    "rdchiral_template = rdchiral_extract_rxn(reaction)[\"reaction_smarts\"]\n",
    "print(\"The extracted rdchiral template is:\")\n",
    "print(rdchiral_template)\n",
    "\n",
    "\n",
    "print(\"The extracted universal template is:\")\n",
    "template = extract_from_rxn_smiles(original_rxn)\n",
    "rxn_smarts = Reactions.ReactionFromSmarts(template, useSmiles=False)\n",
    "print(template)\n",
    "display(Draw.ReactionToImage(rxn_smarts))"
   ]
  },
  {
   "attachments": {},
   "cell_type": "markdown",
   "metadata": {},
   "source": [
    "### (2) Include the charge if the charge of atom is changed"
   ]
  },
  {
   "cell_type": "code",
   "execution_count": null,
   "metadata": {},
   "outputs": [],
   "source": [
    "rxn_type = \"FischerIndoleSynthesis\"\n",
    "rxn_id = 24876608\n",
    "original_rxn = \"[CH3:1][CH2:2][O:3][C:4](=[O:5])[CH:6]=[N+:7]=[N-:8].[CH:9]1=[CH:22][C:20](=[O:21])[N:12]([CH2:13][c:14]2[cH:15][cH:16][cH:17][cH:18][cH:19]2)[C:10]1=[O:11]>>[CH3:1][CH2:2][O:3][C:4](=[O:5])[C:6]1=[N:7][NH:8][CH:9]2[C:10](=[O:11])[N:12]([CH2:13][c:14]3[cH:15][cH:16][cH:17][cH:18][cH:19]3)[C:20](=[O:21])[CH:22]12 \"\n",
    "rxn_1 = Reactions.ReactionFromSmarts(original_rxn, useSmiles=True)\n",
    "\n",
    "print(\"original reaction type: {}, reaction id: {}\".format(rxn_type, rxn_id))\n",
    "print(GetAnswer(original_rxn))\n",
    "display(Draw.ReactionToImage(rxn_1))\n",
    "\n",
    "template = extract_from_rxn_smiles(original_rxn)\n",
    "rxn_smarts = Reactions.ReactionFromSmarts(template, useSmiles=False)\n",
    "print(template)\n",
    "display(Draw.ReactionToImage(rxn_smarts))"
   ]
  },
  {
   "attachments": {},
   "cell_type": "markdown",
   "metadata": {},
   "source": [
    "### (3)\tInclude the number of hydrogen if the atoms violate the octet rule"
   ]
  },
  {
   "cell_type": "code",
   "execution_count": null,
   "metadata": {},
   "outputs": [],
   "source": [
    "rxn_type = \"PausonKhandReaction\"\n",
    "rxn_id = 4990712\n",
    "original_rxn = \"[CH3:1][O:2][C:3](=[O:4])[C:5]([C:6](=[O:7])[O:8][CH3:9])([CH2:10][C:11]#[CH:12])[CH2:18][C:16]([CH3:15])=[CH2:17].[C:13]=[O:14]>>[CH3:1][O:2][C:3](=[O:4])[C:5]1([C:6](=[O:7])[O:8][CH3:9])[CH2:10][C:11]2=[CH:12][C:13](=[O:14])[CH2:15][C:16]2([CH3:17])[CH2:18]1\"\n",
    "rxn_1 = Reactions.ReactionFromSmarts(original_rxn, useSmiles=True)\n",
    "\n",
    "print(\"original reaction type: {}, reaction id: {}\".format(rxn_type, rxn_id))\n",
    "print(GetAnswer(original_rxn))\n",
    "display(Draw.ReactionToImage(rxn_1))\n",
    "\n",
    "template = extract_from_rxn_smiles(original_rxn)\n",
    "rxn_smarts = Reactions.ReactionFromSmarts(template, useSmiles=False)\n",
    "print(template)\n",
    "display(Draw.ReactionToImage(rxn_smarts))"
   ]
  },
  {
   "attachments": {},
   "cell_type": "markdown",
   "metadata": {},
   "source": [
    "### (4)\tInclude the path atoms between the separate reaction center"
   ]
  },
  {
   "cell_type": "code",
   "execution_count": null,
   "metadata": {},
   "outputs": [],
   "source": [
    "rxn_type = \"FischerIndoleSynthesis\"\n",
    "rxn_id = 35784196\n",
    "original_rxn = \"N[NH:7][c:6]1[cH:5][cH:4][c:3]([O:2][CH3:1])[cH:15][cH:14]1.[CH:8]1=[CH:9][CH2:10][CH2:11][CH2:12][O:13]1>>[CH3:1][O:2][c:3]1[cH:4][cH:5][c:6]2[nH:7][cH:8][c:9]([CH2:10][CH2:11][CH2:12][OH:13])[c:14]2[cH:15]1\"\n",
    "rxn_1 = Reactions.ReactionFromSmarts(original_rxn, useSmiles=True)\n",
    "\n",
    "print(\"original reaction type: {}, reaction id: {}\".format(rxn_type, rxn_id))\n",
    "display(Draw.ReactionToImage(rxn_1))\n",
    "\n",
    "template = extract_from_rxn_smiles(original_rxn)\n",
    "rxn_smarts = Reactions.ReactionFromSmarts(template, useSmiles=False)\n",
    "print(template)\n",
    "display(Draw.ReactionToImage(rxn_smarts))"
   ]
  },
  {
   "attachments": {},
   "cell_type": "markdown",
   "metadata": {},
   "source": [
    "# 3. Template canonicalization (to reduce the redudant templates)\n",
    "### (1) Merge the same reaction template (use graph isomorphism to check the reactant and porduct pairs)"
   ]
  },
  {
   "cell_type": "code",
   "execution_count": null,
   "metadata": {},
   "outputs": [],
   "source": [
    "pass"
   ]
  },
  {
   "attachments": {},
   "cell_type": "markdown",
   "metadata": {},
   "source": [
    "### (2) Merge the reaction template with more \"bond change number\" into the reaction template with less \"bond change number\"."
   ]
  },
  {
   "cell_type": "code",
   "execution_count": null,
   "metadata": {},
   "outputs": [],
   "source": [
    "template_1 = \"[#16:1]1-[#6:3]-[#6:4]=[#6:6]-[#6:5]-[#7:2]-1>>[#16:1]=[#7:2].[#6:3]=[#6:4]-[#6:5]=[#6:6]\"\n",
    "template_2 = \"[#16:1]1-[#6:6]-[#6:5]=[#6:4]-[#6:3]-[#7:2]-1>>[#16:1]=[#7:2].[#6:3]=[#6:4]-[#6:5]=[#6:6]\"\n",
    "rxn_smarts_1 = Reactions.ReactionFromSmarts(template_1, useSmiles=False)\n",
    "rxn_smarts_2 = Reactions.ReactionFromSmarts(template_2, useSmiles=False)\n",
    "\n",
    "print(\"The first template has BCN = {}\".format(countBCN(template_1)))\n",
    "print(template_1)\n",
    "print(\"answer:\", GetAnswer(template_1))\n",
    "display(Draw.ReactionToImage(rxn_smarts_1))\n",
    "\n",
    "print(\"The second template has BCN = {}\".format(countBCN(template_2)))\n",
    "print(template_2)\n",
    "print(\"answer:\", GetAnswer(template_2))\n",
    "display(Draw.ReactionToImage(rxn_smarts_2))"
   ]
  },
  {
   "cell_type": "code",
   "execution_count": null,
   "metadata": {},
   "outputs": [],
   "source": []
  }
 ],
 "metadata": {
  "kernelspec": {
   "display_name": "autotemplate",
   "language": "python",
   "name": "python3"
  },
  "language_info": {
   "codemirror_mode": {
    "name": "ipython",
    "version": 3
   },
   "file_extension": ".py",
   "mimetype": "text/x-python",
   "name": "python",
   "nbconvert_exporter": "python",
   "pygments_lexer": "ipython3",
   "version": "3.7.12"
  },
  "orig_nbformat": 4
 },
 "nbformat": 4,
 "nbformat_minor": 2
}
